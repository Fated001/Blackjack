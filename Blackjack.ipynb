{
 "cells": [
  {
   "cell_type": "code",
   "execution_count": 1,
   "metadata": {},
   "outputs": [],
   "source": [
    "%load_ext pycodestyle_magic"
   ]
  },
  {
   "cell_type": "markdown",
   "metadata": {},
   "source": [
    "# Unit 9 Problem Set\n",
    "\n",
    "In this problem set we will build a set of classes that will be used to play the card game Blackjack. If you have never played, then you can find the simple rules here: https://www.bicyclecards.com/how-to-play/blackjack/\n"
   ]
  },
  {
   "cell_type": "markdown",
   "metadata": {},
   "source": [
    "## The Card class"
   ]
  },
  {
   "cell_type": "markdown",
   "metadata": {},
   "source": [
    "1.Think about a deck of cards. What do you need to know in order to tell one card from another? \n",
    "\n",
    "There are thirteen different ranks, from Ace to King. There are four different suits: Clubs, Diamonds, Hearts, and Spades. So, to know everything about a single card you need its rank and its suit. In card games such as blackjack, where the cards are worth a certain number of points, it is also helpful to have a third variable, called value that is an integer related to a card's rank. The values of the cards are [2,3,4,5,6,7,8,9,10,10,10,10,11], respectively (meaning, the Jack, King, Queen, and 10 have a value of 10 and the Ace has a value of 11).\n",
    "\n",
    "Create a **class** named **Card**. Include three **attributes**: **rank** and **suit** (both strings) and **value** (int). Don't forget the initializing (__init__) and the toString (__str__) methods.\n",
    "\n",
    "Test that you can create a few cards. Make several instances of different cards: try Ace of Spades and Eight of Hearts. "
   ]
  },
  {
   "cell_type": "code",
   "execution_count": 2,
   "metadata": {},
   "outputs": [
    {
     "name": "stdout",
     "output_type": "stream",
     "text": [
      "Ace of Spades with value 11\n"
     ]
    }
   ],
   "source": [
    "# %%pycodestyle\n",
    "# insert 1\n",
    "\n",
    "\n",
    "class Card:\n",
    "    def __init__(self, rank, suit, value):\n",
    "        self.rank = rank\n",
    "        self.suit = suit\n",
    "        self.value = value\n",
    "\n",
    "    def __str__(self):\n",
    "        return f\"{self.rank} of {self.suit} with value {self.value}\"\n",
    "\n",
    "    def __repr__(self):\n",
    "        return str(self)\n",
    "\n",
    "\n",
    "print(Card(\"Ace\", \"Spades\", 11))"
   ]
  },
  {
   "cell_type": "markdown",
   "metadata": {},
   "source": [
    "## The Deck class"
   ]
  },
  {
   "cell_type": "markdown",
   "metadata": {},
   "source": [
    "2.A typical deck of cards has one of each rank in one of each suit, for a total of 52 cards. Create a **class** named **Deck**. The **attribute** of our Deck class will be a single list of 52 Card objects named **cards**.\n",
    "\n",
    "To do this, you will need to send three lists to the initializing method as input: ranks, suits, and values. Then use a double for-loop to create the Cards (by calling the initializing method of the Card Class) and append them to the list called cards. To help, here are three lists that you can copy and paste in your code below:\n",
    "\n",
    "ranks = ['Two','Three','Four','Five','Six','Seven','Eight','Nine','Ten','Jack','Queen','King','Ace']\n",
    "\n",
    "suits = ['Clubs', 'Diamonds', 'Hearts', 'Spades']\n",
    "\n",
    "values = [2,3,4,5,6,7,8,9,10,10,10,10,11]"
   ]
  },
  {
   "cell_type": "code",
   "execution_count": 3,
   "metadata": {},
   "outputs": [],
   "source": [
    "# %%pycodestyle\n",
    "# insert 2\n",
    "from random import shuffle\n",
    "\n",
    "\n",
    "ranks = ['Two', 'Three', 'Four', 'Five', 'Six', 'Seven', 'Eight', 'Nine',\n",
    "         'Ten', 'Jack', 'Queen', 'King', 'Ace']\n",
    "suits = ['Clubs', 'Diamonds', 'Hearts', 'Spades']\n",
    "values = [2, 3, 4, 5, 6, 7, 8, 9, 10, 10, 10, 10, 11]\n",
    "deck = []\n",
    "for i in range(13):\n",
    "    for j in range(4):\n",
    "        deck.append(Card(ranks[i], suits[j], values[i]))\n",
    "\n",
    "shuffle(deck)\n",
    "\n",
    "\n",
    "def get_top_card():\n",
    "    return deck.pop(0)"
   ]
  },
  {
   "cell_type": "markdown",
   "metadata": {},
   "source": [
    "3.One obvious **method** that you will need is a **shuffle()** method that shuffles the deck **in place**. This method should reorder the deck randomly. There are many ways to do this, but luckily, the Python random package has a shuffle method built in that shuffles a list in place! \n",
    "\n",
    "Finally, create a method called **get_top_card()**. This method should **return** the card with index 0, and remove it from the deck **in place**."
   ]
  },
  {
   "cell_type": "code",
   "execution_count": 4,
   "metadata": {},
   "outputs": [],
   "source": [
    "#edit your code in the cell above to reflect these changes"
   ]
  },
  {
   "cell_type": "markdown",
   "metadata": {},
   "source": [
    "4.Use the cell below to test your deck method. Hint: check the length of your deck to make sure that the get_top_card method is removing a card from the deck. Also check that your deck is getting randomly shuffled. Insert some test code below."
   ]
  },
  {
   "cell_type": "code",
   "execution_count": 5,
   "metadata": {},
   "outputs": [
    {
     "name": "stdout",
     "output_type": "stream",
     "text": [
      "[Seven of Spades with value 7, Ace of Spades with value 11, Jack of Spades with value 10, Six of Clubs with value 6, Three of Hearts with value 3, Three of Diamonds with value 3, Nine of Diamonds with value 9, King of Hearts with value 10, Four of Clubs with value 4, King of Clubs with value 10, Jack of Diamonds with value 10, Eight of Hearts with value 8, Five of Clubs with value 5, Two of Diamonds with value 2, Three of Clubs with value 3, Five of Diamonds with value 5, Ace of Diamonds with value 11, Queen of Spades with value 10, Jack of Hearts with value 10, Three of Spades with value 3, Ten of Clubs with value 10, Queen of Clubs with value 10, Two of Clubs with value 2, Two of Hearts with value 2, Six of Diamonds with value 6, King of Spades with value 10, Eight of Clubs with value 8, Four of Spades with value 4, Ace of Clubs with value 11, Six of Hearts with value 6, Five of Spades with value 5, Five of Hearts with value 5, Eight of Diamonds with value 8, Four of Hearts with value 4, Queen of Diamonds with value 10, Four of Diamonds with value 4, Jack of Clubs with value 10, Two of Spades with value 2, Ace of Hearts with value 11, Nine of Spades with value 9, Queen of Hearts with value 10, Nine of Hearts with value 9, King of Diamonds with value 10, Ten of Hearts with value 10, Eight of Spades with value 8, Seven of Diamonds with value 7, Ten of Spades with value 10, Six of Spades with value 6, Seven of Clubs with value 7, Seven of Hearts with value 7, Nine of Clubs with value 9, Ten of Diamonds with value 10]\n",
      "Seven of Spades with value 7\n",
      "Ace of Spades with value 11\n",
      "[Jack of Spades with value 10, Six of Clubs with value 6, Three of Hearts with value 3, Three of Diamonds with value 3, Nine of Diamonds with value 9, King of Hearts with value 10, Four of Clubs with value 4, King of Clubs with value 10, Jack of Diamonds with value 10, Eight of Hearts with value 8, Five of Clubs with value 5, Two of Diamonds with value 2, Three of Clubs with value 3, Five of Diamonds with value 5, Ace of Diamonds with value 11, Queen of Spades with value 10, Jack of Hearts with value 10, Three of Spades with value 3, Ten of Clubs with value 10, Queen of Clubs with value 10, Two of Clubs with value 2, Two of Hearts with value 2, Six of Diamonds with value 6, King of Spades with value 10, Eight of Clubs with value 8, Four of Spades with value 4, Ace of Clubs with value 11, Six of Hearts with value 6, Five of Spades with value 5, Five of Hearts with value 5, Eight of Diamonds with value 8, Four of Hearts with value 4, Queen of Diamonds with value 10, Four of Diamonds with value 4, Jack of Clubs with value 10, Two of Spades with value 2, Ace of Hearts with value 11, Nine of Spades with value 9, Queen of Hearts with value 10, Nine of Hearts with value 9, King of Diamonds with value 10, Ten of Hearts with value 10, Eight of Spades with value 8, Seven of Diamonds with value 7, Ten of Spades with value 10, Six of Spades with value 6, Seven of Clubs with value 7, Seven of Hearts with value 7, Nine of Clubs with value 9, Ten of Diamonds with value 10]\n"
     ]
    }
   ],
   "source": [
    "# %%pycodestyle\n",
    "# insert 4\n",
    "print(deck)\n",
    "print(get_top_card())\n",
    "print(get_top_card())\n",
    "print(deck)"
   ]
  },
  {
   "cell_type": "markdown",
   "metadata": {},
   "source": [
    "## The Blackjack class"
   ]
  },
  {
   "cell_type": "markdown",
   "metadata": {},
   "source": [
    "When a 'single' program is built from several classes, it is common to have a runner class that is not intended to create objects. We will name our **runner class**, **Blackjack**. Since we will not be creating instances of this class, we do not need an initializing method. \n",
    "\n",
    "We will need **methods** as follows (notice that they are named so that anyone will know what they do):\n",
    "\n",
    "**player_turn()**, **computer_turn()**, **deal()**, **check_bust()**, **check_blackjack()**, **find_winner()**, and finally a **main** method to control the order of when methods will be called. See below for an outline of the main method. Your job is to finish the main and write the rest of the methods."
   ]
  },
  {
   "cell_type": "code",
   "execution_count": 6,
   "metadata": {},
   "outputs": [
    {
     "name": "stdout",
     "output_type": "stream",
     "text": [
      "Your Score: 19\n",
      "Hit or Stand?Stand\n",
      "Computer Score: 17\n",
      "Player Wins!\n"
     ]
    }
   ],
   "source": [
    "# %%pycodestyle\n",
    "class Blackjack:\n",
    "\n",
    "        def deal(self, deck, tally):\n",
    "            '''deals a single card and returns the new tally\n",
    "            of all that player/'s cards'''\n",
    "            tally += deck.get_top_card().value\n",
    "            return tally\n",
    "\n",
    "        def check_bust(self, tally):\n",
    "            '''returns True or False based on whether\n",
    "            the tally is greater than 21'''\n",
    "            if tally > 21:\n",
    "                return True\n",
    "            else:\n",
    "                return False\n",
    "\n",
    "        def check_blackjack(self, tally):\n",
    "            '''returns True or False based on whether\n",
    "            the tally is equal to 21'''\n",
    "            if tally == 21:\n",
    "                return True\n",
    "            else:\n",
    "                return False\n",
    "\n",
    "        # player method\n",
    "        def player_turn(self, deck, player_sum):\n",
    "            '''Continues to ask the user if they want to\n",
    "            choose a new card (and then chooses a card)\n",
    "            until the player busts or chooses to stop\n",
    "            receiving more cards. It then returns the player_sum.'''\n",
    "            print(f\"Your Score: {player_sum}\")\n",
    "            choice = input(\"Hit or Stand?\").strip()\n",
    "            while True:\n",
    "                while choice.title() != \"Hit\" and choice.title() != \"Stand\":\n",
    "                    choice = input(\"\"\"Invalid input.\n",
    "                                   Please choose \\\"Hit\\\" or \\\"Stand\\\"\"\"\").strip()\n",
    "                if choice.title().strip() == \"Hit\":\n",
    "                    player_sum = self.deal(deck, player_sum)\n",
    "                    print(f\"Your Score: {player_sum}\")\n",
    "                    if self.check_bust(player_sum):\n",
    "                        print(\"You busted\")\n",
    "                        break\n",
    "                    else:\n",
    "                        choice = input(\"Hit or Stand?\")\n",
    "                else:\n",
    "                    break\n",
    "            return player_sum\n",
    "\n",
    "        # computer method\n",
    "        def computer_turn(self, deck, comp_sum):\n",
    "            '''Continues to choose a new card\n",
    "            until the computer busts or the comp_sum\n",
    "            becomes 17 or higher. It then returns the comp_sum.'''\n",
    "            while comp_sum < 17:\n",
    "                comp_sum = self.deal(deck, comp_sum)\n",
    "            return comp_sum\n",
    "\n",
    "        def find_winner(self, player_sum, comp_sum):\n",
    "            '''Prints Player Wins!, Computer Wins!, or Tie!\n",
    "            based on a comparison of player_sum and comp_sum.'''\n",
    "            if self.check_bust(player_sum) and self.check_bust(comp_sum):\n",
    "                print(\"Tie!\")\n",
    "            elif self.check_bust(player_sum):\n",
    "                print(\"Computer Wins!\")\n",
    "            elif self.check_bust(comp_sum):\n",
    "                print(\"Player Wins!\")\n",
    "            else:\n",
    "                if player_sum > comp_sum:\n",
    "                    print(\"Player Wins!\")\n",
    "                elif player_sum == comp_sum:\n",
    "                    print(\"Tie!\")\n",
    "                else:\n",
    "                    print(\"Computer Wins!\")\n",
    "            pass\n",
    "\n",
    "        def main(self):\n",
    "\n",
    "            # create a runner class\n",
    "            game = Blackjack()\n",
    "\n",
    "            # we will need these lists below\n",
    "            ranks = ['Two', 'Three', 'Four', 'Five', 'Six', 'Seven',\n",
    "                     'Eight', 'Nine', 'Ten', 'Jack', 'Queen', 'King', 'Ace']\n",
    "            suits = ['Clubs', 'Diamonds', 'Hearts', 'Spades']\n",
    "            values = [2, 3, 4, 5, 6, 7, 8, 9, 10, 10, 10, 10, 11]\n",
    "\n",
    "            # create a deck object\n",
    "            class Deck():\n",
    "                    def __init__(self, ranks, suits, values):\n",
    "                        self.deck = []\n",
    "                        for i in range(13):\n",
    "                            for j in range(4):\n",
    "                                self.deck.append(Card(ranks[i],\n",
    "                                                      suits[j], values[i]))\n",
    "\n",
    "                    def get_top_card(self):\n",
    "                        return self.deck.pop(0)\n",
    "\n",
    "            deck = Deck(ranks, suits, values)\n",
    "            # shuffle the deck\n",
    "            from random import shuffle\n",
    "            shuffle(deck.deck)\n",
    "            # initialize a player_sum and comp_sum to zero\n",
    "            player_sum = 0\n",
    "            comp_sum = 0\n",
    "            # deal the first four cards (alternating player/comp/player/comp)\n",
    "            player_sum = self.deal(deck, 0)\n",
    "            comp_sum = self.deal(deck, 0)\n",
    "            player_sum = self.deal(deck, player_sum)\n",
    "            comp_sum = self.deal(deck, comp_sum)\n",
    "            # let the player take their turn (meaning they can choose more\n",
    "            # cards until they choose to stop or bust)\n",
    "            player_sum = self.player_turn(deck, player_sum)\n",
    "            # if the player's sum doesn't exactly equal to 21,\n",
    "            # let the computer take its turn (meaning it can choose more cards\n",
    "            # until it chooses to stop or bust)\n",
    "            if player_sum != 21:\n",
    "                comp_sum = self.computer_turn(deck, comp_sum)\n",
    "            print(\"Computer Score: %d\" % (comp_sum))\n",
    "            # calculate who the winner is\n",
    "            self.find_winner(player_sum, comp_sum)\n",
    "\n",
    "\n",
    "# run the main program\n",
    "if __name__ == '__main__':\n",
    "    Blackjack().main()"
   ]
  },
  {
   "cell_type": "code",
   "execution_count": null,
   "metadata": {},
   "outputs": [],
   "source": []
  }
 ],
 "metadata": {
  "kernelspec": {
   "display_name": "Python 3",
   "language": "python",
   "name": "python3"
  },
  "language_info": {
   "codemirror_mode": {
    "name": "ipython",
    "version": 3
   },
   "file_extension": ".py",
   "mimetype": "text/x-python",
   "name": "python",
   "nbconvert_exporter": "python",
   "pygments_lexer": "ipython3",
   "version": "3.7.0"
  }
 },
 "nbformat": 4,
 "nbformat_minor": 1
}
